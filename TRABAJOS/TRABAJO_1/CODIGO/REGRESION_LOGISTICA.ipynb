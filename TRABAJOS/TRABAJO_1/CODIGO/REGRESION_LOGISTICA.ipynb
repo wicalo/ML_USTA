{
 "cells": [
  {
   "cell_type": "markdown",
   "metadata": {},
   "source": [
    "# Trabajo 1 - Regresión logística        "
   ]
  },
  {
   "cell_type": "markdown",
   "metadata": {},
   "source": [
    "El conjunto de datos Iris es un conjunto de datos clásico en el campo de la aprendizaje automático y la estadística. Fue introducido por el biólogo y estadístico británico Sir Ronald A. Fisher en 1936 como un ejemplo de análisis discriminante. El conjunto de datos Iris consta de 150 observaciones de iris de tres especies diferentes: setosa, versicolor y virginica. Cada especie se representa con 50 muestras.\n",
    "\n",
    "Cada muestra de iris tiene cuatro características (atributos) medidas en centímetros:\n",
    "\n",
    "1. Longitud del sépalo (sepal length)\n",
    "2. Ancho del sépalo (sepal width)\n",
    "3. Longitud del pétalo (petal length)\n",
    "4. Ancho del pétalo (petal width)\n",
    "\n",
    "El objetivo principal de este conjunto de datos es clasificar las flores de iris en una de las tres especies en función de estas cuatro características. Esto lo convierte en un problema de clasificación supervisada común en el campo de la inteligencia artificial y el aprendizaje automático.\n",
    "\n",
    "El conjunto de datos Iris es a menudo utilizado como un punto de partida en la enseñanza y evaluación de algoritmos de clasificación debido a su simplicidad y claridad. Además, se ha convertido en un conjunto de datos de referencia en la comunidad científica para demostrar y comparar métodos de clasificación y análisis de datos."
   ]
  },
  {
   "cell_type": "markdown",
   "metadata": {},
   "source": [
    "### EDA"
   ]
  },
  {
   "cell_type": "markdown",
   "metadata": {},
   "source": [
    "Instalamos las distintas librerías necesarias "
   ]
  },
  {
   "cell_type": "code",
   "execution_count": 2,
   "metadata": {},
   "outputs": [],
   "source": [
    "import matplotlib.pyplot as plt\n",
    "from sklearn import datasets\n",
    "from sklearn.inspection import DecisionBoundaryDisplay\n",
    "from sklearn.linear_model import LogisticRegression\n",
    "import pandas as pd"
   ]
  },
  {
   "cell_type": "markdown",
   "metadata": {},
   "source": [
    "Cargamos y visualizamos la base de Datos "
   ]
  },
  {
   "cell_type": "code",
   "execution_count": 5,
   "metadata": {},
   "outputs": [],
   "source": [
    "iris = datasets.load_iris() # dataset es un metodo de sklearn\n",
    "# Creamos un dataframe con los datos de iris\n",
    "iris_df = pd.DataFrame(data=iris.data, columns=iris.feature_names)\n",
    "iris_df\n",
    "X=iris_df.copy"
   ]
  },
  {
   "cell_type": "code",
   "execution_count": 6,
   "metadata": {},
   "outputs": [
    {
     "data": {
      "text/plain": [
       "<bound method NDFrame.copy of      sepal length (cm)  sepal width (cm)  petal length (cm)  petal width (cm)\n",
       "0                  5.1               3.5                1.4               0.2\n",
       "1                  4.9               3.0                1.4               0.2\n",
       "2                  4.7               3.2                1.3               0.2\n",
       "3                  4.6               3.1                1.5               0.2\n",
       "4                  5.0               3.6                1.4               0.2\n",
       "..                 ...               ...                ...               ...\n",
       "145                6.7               3.0                5.2               2.3\n",
       "146                6.3               2.5                5.0               1.9\n",
       "147                6.5               3.0                5.2               2.0\n",
       "148                6.2               3.4                5.4               2.3\n",
       "149                5.9               3.0                5.1               1.8\n",
       "\n",
       "[150 rows x 4 columns]>"
      ]
     },
     "execution_count": 6,
     "metadata": {},
     "output_type": "execute_result"
    }
   ],
   "source": [
    "X"
   ]
  },
  {
   "cell_type": "code",
   "execution_count": null,
   "metadata": {},
   "outputs": [],
   "source": []
  }
 ],
 "metadata": {
  "kernelspec": {
   "display_name": "base",
   "language": "python",
   "name": "python3"
  },
  "language_info": {
   "codemirror_mode": {
    "name": "ipython",
    "version": 3
   },
   "file_extension": ".py",
   "mimetype": "text/x-python",
   "name": "python",
   "nbconvert_exporter": "python",
   "pygments_lexer": "ipython3",
   "version": "3.10.13"
  }
 },
 "nbformat": 4,
 "nbformat_minor": 2
}
