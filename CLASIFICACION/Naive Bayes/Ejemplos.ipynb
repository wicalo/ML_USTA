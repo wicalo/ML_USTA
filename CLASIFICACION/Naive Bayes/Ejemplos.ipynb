{
 "cells": [
  {
   "attachments": {},
   "cell_type": "markdown",
   "metadata": {},
   "source": [
    "# Naive Bayes\n",
    "\n",
    "Naive Bayes es un algoritmo de clasificación que se basa en el teorema de Bayes y asume independencia condicional entre las características (predictores) dadas las clases. A pesar de su simplicidad, a menudo funciona sorprendentemente bien en muchos problemas de clasificación. Scikit-learn proporciona implementaciones del clasificador Na\n",
    "ive Bayes. "
   ]
  },
  {
   "attachments": {},
   "cell_type": "markdown",
   "metadata": {},
   "source": [
    "En el siguiente link puede encontrar la documentación completa de **Skikit-Learn**\n",
    "[Naive Bayes](https://scikit-learn.org/stable/modules/naive_bayes.html)\n"
   ]
  },
  {
   "attachments": {},
   "cell_type": "markdown",
   "metadata": {},
   "source": [
    "-   Es un buen clasificador pero un mal predictor \n",
    "-   Se basan en el teorema de Bayes, haciendo la suposición de independencia condicional entre cada par de características dado el valor de la variable de clase\n",
    "\n",
    "-   La regla de clasificación conociste en:\n",
    "\n",
    "    $$P(y|x_1,...,x_n) \\propto P(y) \\prod P(x_i|y)$$\n",
    "    $$ \\hat{y} \\Rightarrow arg Max \\propto P(y) \\prod P(x_i|y)$$\n"
   ]
  },
  {
   "attachments": {},
   "cell_type": "markdown",
   "metadata": {},
   "source": [
    "-   $P(y)$ es la frecuencia en la muestra de entrenamiento \n",
    "-   Si asumimos que $P(x_i|y)$ distribuye normal, entonces el algoritmo se conoce como el **Naive Bayes Gaussiano**\n",
    "-   Se utiliza mucho con distribución multinomia, donde los pesos se calculan con las frecuencias relativas \n",
    "-   Otra forma de utilizar la multinomial conociste en utilizas el **Complemento del Naive Bayes**, los pesos se calculan teniendo encuentra los complementos de las clases\n",
    "-   Podemos utilizar una distribución Bernoulli para cada característica  y se conoce como el **NAive Bayes Bernoulli** \n",
    "-   También es posible usar datos Categóricos "
   ]
  },
  {
   "cell_type": "markdown",
   "metadata": {},
   "source": []
  }
 ],
 "metadata": {
  "language_info": {
   "name": "python"
  },
  "orig_nbformat": 4
 },
 "nbformat": 4,
 "nbformat_minor": 2
}
