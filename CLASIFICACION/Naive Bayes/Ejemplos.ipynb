{
 "cells": [
  {
   "attachments": {},
   "cell_type": "markdown",
   "metadata": {},
   "source": [
    "# Naive Bayes\n",
    "\n",
    "Naive Bayes es un algoritmo de clasificación que se basa en el teorema de Bayes y asume independencia condicional entre las características (predictores) dadas las clases. A pesar de su simplicidad, a menudo funciona sorprendentemente bien en muchos problemas de clasificación. Scikit-learn proporciona implementaciones del clasificador Na\n",
    "ive Bayes. "
   ]
  },
  {
   "attachments": {},
   "cell_type": "markdown",
   "metadata": {},
   "source": [
    "En el siguiente link puede encontrar la documentacion completa de **Skikit-Learn**\n",
    "[Naive Bayes](https://scikit-learn.org/stable/modules/naive_bayes.html)\n"
   ]
  },
  {
   "cell_type": "markdown",
   "metadata": {},
   "source": []
  }
 ],
 "metadata": {
  "language_info": {
   "name": "python"
  },
  "orig_nbformat": 4
 },
 "nbformat": 4,
 "nbformat_minor": 2
}
